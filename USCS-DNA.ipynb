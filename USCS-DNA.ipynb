{
 "cells": [
  {
   "cell_type": "code",
   "execution_count": 1,
   "metadata": {},
   "outputs": [],
   "source": [
    "import pandas as pd\n",
    "import requests"
   ]
  },
  {
   "cell_type": "code",
   "execution_count": 2,
   "metadata": {},
   "outputs": [],
   "source": [
    "# Load the Excel file with chromosome and position data\n",
    "file_path = 'Input.xlsx'\n",
    "df = pd.read_excel(file_path)\n"
   ]
  },
  {
   "cell_type": "code",
   "execution_count": 3,
   "metadata": {},
   "outputs": [],
   "source": [
    "# UCSC Table Browser URL for DNA retrieval (configured for mm10)\n",
    "url = \"https://genome.ucsc.edu/cgi-bin/das/mm10/dna\""
   ]
  },
  {
   "cell_type": "code",
   "execution_count": 4,
   "metadata": {},
   "outputs": [],
   "source": [
    "# Initialize the FASTA output\n",
    "fasta_output = []\n"
   ]
  },
  {
   "cell_type": "code",
   "execution_count": 7,
   "metadata": {},
   "outputs": [],
   "source": [
    "# Iterate through the data\n",
    "for index, row in df.iterrows():\n",
    "    try:\n",
    "        # Extract chromosome and position\n",
    "        chromosome = str(row['chr'])\n",
    "        position = int(row['position'])\n",
    "\n",
    "        # Define the range for 150 bp upstream and downstream\n",
    "        start = position - 150\n",
    "        end = position + 150\n",
    "\n",
    "        # Construct the request parameters\n",
    "        params = {\n",
    "            \"segment\": f\"chr{chromosome}:{start},{end}\"\n",
    "        }\n",
    "\n",
    "        # Query the UCSC API\n",
    "        response = requests.get(url, params=params)\n",
    "\n",
    "        if response.status_code == 200:\n",
    "            # Parse the DNA sequence from the response\n",
    "            sequence_lines = response.text.splitlines()\n",
    "            sequence = \"\".join(sequence_lines[2:])  # Skip the header lines\n",
    "\n",
    "            # Format the result in FASTA\n",
    "            fasta_header = f\">chr{chromosome}:{start}-{end}\"\n",
    "            fasta_sequence = \"\\n\".join([sequence[i:i+60] for i in range(0, len(sequence), 60)])  # Wrap at 60 characters\n",
    "            fasta_output.append(f\"{fasta_header}\\n{fasta_sequence}\")\n",
    "        else:\n",
    "            # Add an error message in place of the sequence\n",
    "            fasta_header = f\">chr{chromosome}:{start}-{end}\"\n",
    "            fasta_output.append(f\"{fasta_header}\\nError: HTTP {response.status_code}\")\n",
    "\n",
    "    except Exception as e:\n",
    "        # Handle any processing errors\n",
    "        fasta_header = f\">chr{chromosome}:{start}-{end}\"\n",
    "        fasta_output.append(f\"{fasta_header}\\nError: {str(e)}\")\n",
    "\n",
    "# Save the FASTA output to a file\n",
    "output_path = \"DNA_Sequences_API_Output.fasta\"\n",
    "with open(output_path, \"w\") as fasta_file:\n",
    "    fasta_file.write(\"\\n\".join(fasta_output))"
   ]
  },
  {
   "cell_type": "code",
   "execution_count": null,
   "metadata": {},
   "outputs": [],
   "source": [
    "print(f\"DNA sequences saved in FASTA format to {output_path}\")"
   ]
  }
 ],
 "metadata": {
  "kernelspec": {
   "display_name": ".venv",
   "language": "python",
   "name": "python3"
  },
  "language_info": {
   "codemirror_mode": {
    "name": "ipython",
    "version": 3
   },
   "file_extension": ".py",
   "mimetype": "text/x-python",
   "name": "python",
   "nbconvert_exporter": "python",
   "pygments_lexer": "ipython3",
   "version": "3.12.2"
  }
 },
 "nbformat": 4,
 "nbformat_minor": 2
}
